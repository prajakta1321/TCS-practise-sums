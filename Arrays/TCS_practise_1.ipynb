{
  "nbformat": 4,
  "nbformat_minor": 0,
  "metadata": {
    "colab": {
      "provenance": []
    },
    "kernelspec": {
      "name": "python3",
      "display_name": "Python 3"
    },
    "language_info": {
      "name": "python"
    }
  },
  "cells": [
    {
      "cell_type": "markdown",
      "source": [
        "Q1. Problem Statement: Given an array, we have to find the smallest element in the array.\n",
        "\n",
        "Examples:\n",
        "\n",
        "Example 1:\n",
        "Input: arr[] = {2,5,1,3,0};\n",
        "Output: 0\n",
        "Explanation: 0 is the smallest element in the array.\n",
        "\n",
        "Example2:\n",
        "Input: arr[] = {8,10,5,7,9};\n",
        "Output: 5\n",
        "Explanation: 5 is the smallest element in the array."
      ],
      "metadata": {
        "id": "-dihetGGXU3l"
      }
    },
    {
      "cell_type": "code",
      "source": [
        "def find_smallest(arr):\n",
        "  a = min(arr)\n",
        "  return a\n",
        "\n",
        "if __name__ == \"__main__\":\n",
        "    arr = [2, 5, 1, 3, 0]\n",
        "    print(\"Smallest element:\", find_smallest(arr))  # Output: 0\n"
      ],
      "metadata": {
        "colab": {
          "base_uri": "https://localhost:8080/"
        },
        "id": "6grfuFywXti4",
        "outputId": "c8221664-1522-4187-8f61-ae8eea86b5f9"
      },
      "execution_count": null,
      "outputs": [
        {
          "output_type": "stream",
          "name": "stdout",
          "text": [
            "Smallest element: 0\n"
          ]
        }
      ]
    },
    {
      "cell_type": "code",
      "source": [
        "# or\n",
        "def find_smallest(arr):\n",
        "  smallest = arr[0]   # assuming that the first index number is the smallest\n",
        "\n",
        "  for i in arr:   # for any number in i\n",
        "    if i < smallest:    # if we encounter any number other than the first number as smaller than the first\n",
        "      smallest = i     # then smallest which was first set to the first index will be replaced by the new found smalles element 'i'\n",
        "  return smallest\n",
        "\n",
        "if __name__ == \"__main__\":\n",
        "    arr = [2, 5, 1, 3, 0]\n",
        "    print(\"Smallest element:\", find_smallest(arr))  # Output: 0"
      ],
      "metadata": {
        "colab": {
          "base_uri": "https://localhost:8080/"
        },
        "id": "AyPeb8L7aFlA",
        "outputId": "28136d6c-3752-48e1-ea3e-2d453d3125b4"
      },
      "execution_count": null,
      "outputs": [
        {
          "output_type": "stream",
          "name": "stdout",
          "text": [
            "Smallest element: 0\n"
          ]
        }
      ]
    },
    {
      "cell_type": "code",
      "source": [
        "# or\n",
        "def find_smallest(arr):\n",
        "  a = sorted(arr)[0]\n",
        "  return a\n",
        "\n",
        "if __name__ == \"__main__\":\n",
        "    arr = [2, 5, 1, 3, 0]\n",
        "    print(\"Smallest element:\", find_smallest(arr))  # Output: 0"
      ],
      "metadata": {
        "colab": {
          "base_uri": "https://localhost:8080/"
        },
        "id": "n9hAu8t2bMA4",
        "outputId": "3ed7f240-7619-43de-dc10-ecd08a3ccf7b"
      },
      "execution_count": null,
      "outputs": [
        {
          "output_type": "stream",
          "name": "stdout",
          "text": [
            "Smallest element: 0\n"
          ]
        }
      ]
    },
    {
      "cell_type": "code",
      "source": [
        "arr = list(map(int, input().split()))\n",
        "print(\"Smallest element:\", min(arr))"
      ],
      "metadata": {
        "colab": {
          "base_uri": "https://localhost:8080/"
        },
        "id": "K0E-IWRUFG73",
        "outputId": "911a42f0-f8fe-4455-9609-832c6cf3bc99"
      },
      "execution_count": 46,
      "outputs": [
        {
          "output_type": "stream",
          "name": "stdout",
          "text": [
            "2 5 1 3 0\n",
            "Smallest element: 0\n"
          ]
        }
      ]
    },
    {
      "cell_type": "markdown",
      "source": [
        "Q2 Problem Statement: Given an array, we have to find the largest element in the array."
      ],
      "metadata": {
        "id": "697tu7JBb-Ya"
      }
    },
    {
      "cell_type": "code",
      "source": [
        "arr = list(map(int, input().split()))\n",
        "large = (arr)[::-1]\n",
        "print(large)"
      ],
      "metadata": {
        "colab": {
          "base_uri": "https://localhost:8080/"
        },
        "id": "dFTvWAxlK0za",
        "outputId": "446f6034-8155-4477-ad7a-6b7e5b39676e"
      },
      "execution_count": 49,
      "outputs": [
        {
          "output_type": "stream",
          "name": "stdout",
          "text": [
            "2 5 1 3 0\n",
            "[0, 3, 1, 5, 2]\n"
          ]
        }
      ]
    },
    {
      "cell_type": "code",
      "source": [
        "# or\n",
        "def find_largest(arr):\n",
        "  a = sorted(arr)[::-1]   # sort the array and then reverse it so the largest goest first\n",
        "  b = a[0]  # store the largest\n",
        "  return b\n",
        "\n",
        "if __name__ == \"__main__\":\n",
        "    arr = [2, 5, 1, 3, 0]\n",
        "    print(\"largest element:\", find_largest(arr))  # Output: 0"
      ],
      "metadata": {
        "colab": {
          "base_uri": "https://localhost:8080/"
        },
        "id": "9h0hNPpqcYW6",
        "outputId": "7a2d30bf-c3d7-49b5-c2ab-7781a3967015"
      },
      "execution_count": null,
      "outputs": [
        {
          "output_type": "stream",
          "name": "stdout",
          "text": [
            "largest element: 5\n"
          ]
        }
      ]
    },
    {
      "cell_type": "code",
      "source": [
        "# or\n",
        "def find_largest(arr):\n",
        "  return max(arr)\n",
        "\n",
        "if __name__ == \"__main__\":\n",
        "    arr = [2, 5, 1, 3, 0]\n",
        "    print(\"largest element:\", find_largest(arr))  # Output: 0"
      ],
      "metadata": {
        "colab": {
          "base_uri": "https://localhost:8080/"
        },
        "id": "vYQt--XAdAZ5",
        "outputId": "0a1b30ff-50a1-41c4-ea7f-27f60888b21b"
      },
      "execution_count": null,
      "outputs": [
        {
          "output_type": "stream",
          "name": "stdout",
          "text": [
            "largest element: 5\n"
          ]
        }
      ]
    },
    {
      "cell_type": "code",
      "source": [
        "# or\n",
        "def find_largest(arr):\n",
        "   largest = arr[0]\n",
        "\n",
        "   for i in arr:\n",
        "    if i > largest:\n",
        "      largest = i\n",
        "   return largest\n",
        "\n",
        "if __name__ == \"__main__\":\n",
        "    arr = [2, 5, 1, 3, 0]\n",
        "    print(\"largest element:\", find_largest(arr))  # Output: 0"
      ],
      "metadata": {
        "colab": {
          "base_uri": "https://localhost:8080/"
        },
        "id": "09ZvSGaddGWV",
        "outputId": "ac5941da-5cf3-4135-b7fd-9a19f55ed2c7"
      },
      "execution_count": null,
      "outputs": [
        {
          "output_type": "stream",
          "name": "stdout",
          "text": [
            "largest element: 5\n"
          ]
        }
      ]
    },
    {
      "cell_type": "markdown",
      "source": [
        "Q3. Problem Statement:\n",
        "\n",
        "Given an array, find the second smallest and second largest element in the array. Print ‘-1’ in the event that either of them doesn’t exist."
      ],
      "metadata": {
        "id": "QTHBhmcCe_d4"
      }
    },
    {
      "cell_type": "code",
      "source": [
        "arr = list(map(int,input().split()))  # takes input : arr = [2, 5, 1, 3, 0]\n",
        "a = sorted(arr)   #  sorts the array in descending order  [5,3,2,1,0]\n",
        "total =[]\n",
        "for i in a:\n",
        "  total = [a[1],a[-2]]\n",
        "print(total)"
      ],
      "metadata": {
        "colab": {
          "base_uri": "https://localhost:8080/"
        },
        "id": "d8BHWGDGrSAD",
        "outputId": "788c1a61-d704-4419-ab13-ad554e104025"
      },
      "execution_count": 5,
      "outputs": [
        {
          "output_type": "stream",
          "name": "stdout",
          "text": [
            "2 5 1 3 0\n",
            "[1, 3]\n"
          ]
        }
      ]
    },
    {
      "cell_type": "code",
      "source": [
        "def find_second(arr):\n",
        "  total = []\n",
        "  large = sorted(arr)[::-1]  # sort array and then reverse it for largest\n",
        "  b = large[1]  # index starts from 0 so 1 is the 2nd largest\n",
        "\n",
        "  small = sorted(arr)   # sort array in descending\n",
        "  c = small[1]\n",
        "\n",
        "  total = [b,c]\n",
        "  return total\n",
        "\n",
        "if __name__ == \"__main__\":\n",
        "    arr = [2, 5, 1, 3, 0]\n",
        "    print(\"2nd largest and smallest element:\", find_second(arr))  # Output: 0"
      ],
      "metadata": {
        "colab": {
          "base_uri": "https://localhost:8080/"
        },
        "id": "goYkaL0kfFSK",
        "outputId": "89f407f3-efdf-4146-9000-887c265183be"
      },
      "execution_count": null,
      "outputs": [
        {
          "output_type": "stream",
          "name": "stdout",
          "text": [
            "2nd largest and smallest element: [3, 1]\n"
          ]
        }
      ]
    },
    {
      "cell_type": "code",
      "source": [
        "#or\n",
        "def find_second(arr):\n",
        "  arr = sorted(arr)  # to remove duplicates add set()\n",
        "  if len(arr) < 2:   # assuming if the array has more than 2 elements\n",
        "    return None, None\n",
        "  else:\n",
        "    return arr[-2], arr[1]\n",
        "\n",
        "if __name__ == \"__main__\":\n",
        "    arr = [2, 5, 1, 3, 0]\n",
        "    print(\"2nd largest and smallest element:\", find_second(arr))  # Output: 0"
      ],
      "metadata": {
        "colab": {
          "base_uri": "https://localhost:8080/"
        },
        "id": "Skx_iAIWl4Yy",
        "outputId": "e3582cb4-9548-4f7d-f9ad-b334a329ef9c"
      },
      "execution_count": null,
      "outputs": [
        {
          "output_type": "stream",
          "name": "stdout",
          "text": [
            "2nd largest and smallest element: (3, 1)\n"
          ]
        }
      ]
    },
    {
      "cell_type": "code",
      "source": [
        "#or\n",
        "def find_second(arr):\n",
        "  arr = sorted(arr)\n",
        "  for i in arr:\n",
        "    return arr[-2], arr[1]\n",
        "\n",
        "if __name__ == \"__main__\":\n",
        "    arr = [2, 5, 1, 3, 0]\n",
        "    print(\"2nd largest and smallest element:\", find_second(arr))  # Output: 0"
      ],
      "metadata": {
        "colab": {
          "base_uri": "https://localhost:8080/"
        },
        "id": "Sf-LUQbupQmt",
        "outputId": "40fd199f-3b6b-46e8-d3a2-e92899963995"
      },
      "execution_count": null,
      "outputs": [
        {
          "output_type": "stream",
          "name": "stdout",
          "text": [
            "2nd largest and smallest element: (3, 1)\n"
          ]
        }
      ]
    },
    {
      "cell_type": "markdown",
      "source": [
        "Q4. Problem Statement: You are given an array. The task is to reverse the array and print it."
      ],
      "metadata": {
        "id": "xq1GPj2LrRol"
      }
    },
    {
      "cell_type": "code",
      "source": [
        "arr = list(map(int,input().split()))  # takes input : arr = [2, 4, 1, 3, 0]\n",
        "print(arr[::-1])"
      ],
      "metadata": {
        "colab": {
          "base_uri": "https://localhost:8080/"
        },
        "id": "lJ6Hyv1os4t9",
        "outputId": "8efa170c-186a-4dca-a6d1-1d2c4a150460"
      },
      "execution_count": 6,
      "outputs": [
        {
          "output_type": "stream",
          "name": "stdout",
          "text": [
            "2 4 1 3 0\n",
            "[0, 3, 1, 4, 2]\n"
          ]
        }
      ]
    },
    {
      "cell_type": "code",
      "source": [
        "def find_reverse(arr):\n",
        "  arr = arr[::-1]\n",
        "  return arr\n",
        "\n",
        "if __name__ == \"__main__\":\n",
        "    arr = [2, 5, 1, 3, 0]\n",
        "    print(\"reversed element:\", find_reverse(arr))  # Output: 0"
      ],
      "metadata": {
        "colab": {
          "base_uri": "https://localhost:8080/"
        },
        "id": "8ZcHEHucrRDH",
        "outputId": "55951d20-1e04-42e1-fb82-0d51c5acc9f7"
      },
      "execution_count": 38,
      "outputs": [
        {
          "output_type": "stream",
          "name": "stdout",
          "text": [
            "reversed element: [0, 3, 1, 5, 2]\n"
          ]
        }
      ]
    },
    {
      "cell_type": "code",
      "source": [
        "# or\n",
        "def find_reverse(arr):\n",
        "  arr.reverse()\n",
        "  return arr\n",
        "\n",
        "if __name__ == \"__main__\":\n",
        "    arr = [2, 5, 1, 3, 0]\n",
        "    print(\"reversed element:\", find_reverse(arr))  # Output: 0"
      ],
      "metadata": {
        "colab": {
          "base_uri": "https://localhost:8080/"
        },
        "id": "VUBHQ4qEtxfH",
        "outputId": "8f7436f6-10a2-47be-9fba-01db0316f0bc"
      },
      "execution_count": 40,
      "outputs": [
        {
          "output_type": "stream",
          "name": "stdout",
          "text": [
            "reversed element: [0, 3, 1, 5, 2]\n"
          ]
        }
      ]
    },
    {
      "cell_type": "code",
      "source": [
        "def find_reverse(arr):\n",
        "  rev = list(reversed(arr))\n",
        "  return rev\n",
        "\n",
        "if __name__ == \"__main__\":\n",
        "    arr = [2, 5, 1, 3, 0]\n",
        "    print(\"reversed element:\", find_reverse(arr))  # Output: 0"
      ],
      "metadata": {
        "colab": {
          "base_uri": "https://localhost:8080/"
        },
        "id": "N_xSF6EPt5be",
        "outputId": "22b5c333-c0d2-420d-a7b4-8328c8926db4"
      },
      "execution_count": 41,
      "outputs": [
        {
          "output_type": "stream",
          "name": "stdout",
          "text": [
            "reversed element: [0, 3, 1, 5, 2]\n"
          ]
        }
      ]
    },
    {
      "cell_type": "code",
      "source": [
        "# or\n",
        "def reverse_array(arr):\n",
        "    left, right = 0, len(arr) - 1\n",
        "    while left < right:\n",
        "        arr[left], arr[right] = arr[right], arr[left]\n",
        "        left += 1\n",
        "        right -= 1\n",
        "    return arr\n",
        "\n",
        "arr = [1, 2, 3, 4, 5]\n",
        "print(reverse_array(arr))  # Output: [5, 4, 3, 2, 1]"
      ],
      "metadata": {
        "colab": {
          "base_uri": "https://localhost:8080/"
        },
        "id": "9B0yptcwuJw3",
        "outputId": "be8fc4d0-5eb8-4c62-e982-08d92ec63fc8"
      },
      "execution_count": 42,
      "outputs": [
        {
          "output_type": "stream",
          "name": "stdout",
          "text": [
            "[5, 4, 3, 2, 1]\n"
          ]
        }
      ]
    },
    {
      "cell_type": "markdown",
      "source": [
        "Q5 Problem statement: Given an array, we have found the number of occurrences of each element in the array."
      ],
      "metadata": {
        "id": "--5CkLSItFn2"
      }
    },
    {
      "cell_type": "code",
      "source": [
        "arr = list(map(int,input().split()))  # takes input : arr = [2, 4, 1, 3, 0]\n",
        "result = []\n",
        "\n",
        "for i in arr:\n",
        "  if i not in result:\n",
        "    result.append(i)\n",
        "print(result)\n"
      ],
      "metadata": {
        "colab": {
          "base_uri": "https://localhost:8080/"
        },
        "id": "7QVHIk8ItKeo",
        "outputId": "cdc9d285-ebc0-40ce-c183-658307e02d5d"
      },
      "execution_count": 18,
      "outputs": [
        {
          "output_type": "stream",
          "name": "stdout",
          "text": [
            "2 3 4 5 5\n",
            "[2, 3, 4, 5]\n"
          ]
        }
      ]
    },
    {
      "cell_type": "code",
      "source": [
        "arr = list(map(int,input().split()))  # takes input : arr = [2, 4, 1, 3, 0]\n",
        "\n",
        "result = set(arr)  # removed duplicates and orders in descending order\n",
        "print(*result)  # * makes sure set prints [] brackets and not {} braces"
      ],
      "metadata": {
        "colab": {
          "base_uri": "https://localhost:8080/"
        },
        "id": "ffVPfXUWua2v",
        "outputId": "3d08a725-3342-4998-a5bf-1cc3d7076148"
      },
      "execution_count": 19,
      "outputs": [
        {
          "output_type": "stream",
          "name": "stdout",
          "text": [
            "3 4 7 2 1\n",
            "1 2 3 4 7\n"
          ]
        }
      ]
    }
  ]
}